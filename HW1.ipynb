{
 "cells": [
  {
   "cell_type": "code",
   "execution_count": null,
   "metadata": {
    "scrolled": true
   },
   "outputs": [],
   "source": [
    "import numpy as np\n",
    "import scipy.io\n",
    "\n",
    "from mpl_toolkits.mplot3d import Axes3D\n",
    "from matplotlib.collections import PolyCollection\n",
    "import matplotlib.pyplot as plt\n",
    "from matplotlib import colors as mcolors\n",
    "\n",
    "# Constants from the example code provided in the PDF\n",
    "L=15  # Spatial domain\n",
    "n=64  # Fourier modes\n",
    "\n",
    "x2 = np.linspace(-L, L, n+1)\n",
    "x = x2[0:n]\n",
    "y = x\n",
    "z = x\n",
    "ks=(2*np.pi/(2*L))*np.arange(-n/2, n/2)\n",
    "\n",
    "# Confirm these values match what Octave says\n",
    "print(\"x2:\\n\", x2)\n",
    "print(\"x:\\n\", x)\n",
    "print(\"ks\\n:\", ks)\n",
    "\n",
    "# Read in and explore the data\n",
    "testdata = scipy.io.loadmat(\"Testdata.mat\")\n",
    "print(testdata.keys())\n",
    "print(\"Data shape:\", testdata['Undata'].shape)\n",
    "print(\"Globals:\", testdata['__globals__'])\n",
    "# Seems we don't care about anything but the 'Undata'\n",
    "data = testdata['Undata']"
   ]
  },
  {
   "cell_type": "code",
   "execution_count": null,
   "metadata": {
    "scrolled": true
   },
   "outputs": [],
   "source": [
    "from mpl_toolkits.mplot3d import Axes3D\n",
    "X, Y, Z = np.meshgrid(x,y,z)\n",
    "for sample in data:\n",
    "    tmp = np.reshape(sample[:], (n,n,n))\n",
    "    fig = plt.figure()\n",
    "    ax = plt.gca(projection=\"3d\")\n",
    "    ax.plot_surface(X, Y, np.abs(tmp))\n",
    "    \n",
    "plt.show()"
   ]
  },
  {
   "cell_type": "code",
   "execution_count": null,
   "metadata": {
    "scrolled": false
   },
   "outputs": [],
   "source": [
    "tmp = np.reshape(data[0][:], (64,64,64))\n",
    "tmp[0]"
   ]
  },
  {
   "cell_type": "code",
   "execution_count": null,
   "metadata": {},
   "outputs": [],
   "source": []
  }
 ],
 "metadata": {
  "kernelspec": {
   "display_name": "Python 3",
   "language": "python",
   "name": "python3"
  },
  "language_info": {
   "codemirror_mode": {
    "name": "ipython",
    "version": 3
   },
   "file_extension": ".py",
   "mimetype": "text/x-python",
   "name": "python",
   "nbconvert_exporter": "python",
   "pygments_lexer": "ipython3",
   "version": "3.7.3"
  }
 },
 "nbformat": 4,
 "nbformat_minor": 2
}
